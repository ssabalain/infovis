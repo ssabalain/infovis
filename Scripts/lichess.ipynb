{
 "metadata": {
  "language_info": {
   "codemirror_mode": {
    "name": "ipython",
    "version": 3
   },
   "file_extension": ".py",
   "mimetype": "text/x-python",
   "name": "python",
   "nbconvert_exporter": "python",
   "pygments_lexer": "ipython3",
   "version": "3.8.5"
  },
  "orig_nbformat": 4,
  "kernelspec": {
   "name": "python3",
   "display_name": "Python 3.8.5 64-bit ('base': conda)"
  },
  "interpreter": {
   "hash": "d841683dfc5fd0feb0a022474b2678e1b8e3564fd944ef79702d248c8079850b"
  }
 },
 "nbformat": 4,
 "nbformat_minor": 2,
 "cells": [
  {
   "cell_type": "code",
   "execution_count": 270,
   "metadata": {},
   "outputs": [],
   "source": [
    "import numpy as np\n",
    "import pandas as pd"
   ]
  },
  {
   "cell_type": "code",
   "execution_count": 271,
   "metadata": {},
   "outputs": [],
   "source": [
    "pd.options.mode.chained_assignment = None  # default='warn'"
   ]
  },
  {
   "cell_type": "code",
   "execution_count": 272,
   "metadata": {},
   "outputs": [],
   "source": [
    "df = pd.read_csv('datasets/lichess_OzymandiasS_2021-07-15.csv')"
   ]
  },
  {
   "cell_type": "code",
   "execution_count": 273,
   "metadata": {},
   "outputs": [],
   "source": [
    "df[\"WhiteFirstMove\"] = df[\"Moves\"].str[3:df[\"Moves\"][1].index(\" \",3)]\n",
    "df[\"BlackFirstMove\"] = df[\"Moves\"].str[df[\"Moves\"][1].index(\" \",3)+1:df[\"Moves\"][1].index(\" \",6)]\n",
    "\n"
   ]
  },
  {
   "cell_type": "code",
   "execution_count": 278,
   "metadata": {},
   "outputs": [],
   "source": [
    "df[\"BlackFirstMove\"][df[\"Moves\"].str[df[\"Moves\"][1].index(\" \",3)+1:df[\"Moves\"][1].index(\" \",6)] == \" e\"] = df[\"Moves\"].str[df[\"Moves\"][1].index(\" \",3)+2:df[\"Moves\"][1].index(\" \",6)+1]\n",
    "df[\"BlackFirstMove\"][df[\"Moves\"].str[df[\"Moves\"][1].index(\" \",3)+1:df[\"Moves\"][1].index(\" \",6)] == \" d\"] = df[\"Moves\"].str[df[\"Moves\"][1].index(\" \",3)+2:df[\"Moves\"][1].index(\" \",6)+1]\n",
    "df[\"BlackFirstMove\"][df[\"Moves\"].str[df[\"Moves\"][1].index(\" \",3)+1:df[\"Moves\"][1].index(\" \",6)] == \" N\"] = df[\"Moves\"].str[df[\"Moves\"][1].index(\" \",3)+2:df[\"Moves\"][1].index(\" \",6)+1]\n",
    "\n"
   ]
  },
  {
   "cell_type": "code",
   "execution_count": 279,
   "metadata": {},
   "outputs": [],
   "source": [
    "df[\"WhiteFirstMove\"].replace({\"Nc\": \"Nc3\", \"Nf\": \"Nf3\"}, inplace=True)\n",
    "df[\"BlackFirstMove\"].replace({\"Nc\": \"Nc6\", \"Nf\": \"Nf6\"}, inplace=True)"
   ]
  },
  {
   "source": [
    "df[\"UTCDate\"] = df[\"UTCDate\"].replace({'\\.':'/'}, regex=True)"
   ],
   "cell_type": "code",
   "metadata": {},
   "execution_count": 280,
   "outputs": []
  },
  {
   "cell_type": "code",
   "execution_count": 281,
   "metadata": {},
   "outputs": [],
   "source": [
    "df[\"MyResult\"] = \"Loss\""
   ]
  },
  {
   "cell_type": "code",
   "execution_count": 282,
   "metadata": {},
   "outputs": [],
   "source": [
    "df[\"MyResult\"][((df[\"White\"] == 'OzymandiasS') & (df[\"Result\"] == \"1-0\")) | ((df[\"Black\"] == 'OzymandiasS') & (df[\"Result\"] == \"0-1\"))]  = \"Win\"\n"
   ]
  },
  {
   "cell_type": "code",
   "execution_count": 283,
   "metadata": {},
   "outputs": [],
   "source": [
    "df[\"MyResult\"][df[\"Result\"] == \"1/2-1/2\"] = \"Draw\""
   ]
  },
  {
   "cell_type": "code",
   "execution_count": 284,
   "metadata": {},
   "outputs": [],
   "source": [
    "df[\"MyFirstMove\"] = \"nan\"\n",
    "df[\"MyFirstMove\"][df[\"White\"] == 'OzymandiasS'] = df[\"WhiteFirstMove\"][df[\"White\"] == 'OzymandiasS']\n",
    "df[\"MyFirstMove\"][df[\"Black\"] == 'OzymandiasS'] = df[\"BlackFirstMove\"][df[\"Black\"] == 'OzymandiasS']"
   ]
  },
  {
   "cell_type": "code",
   "execution_count": 285,
   "metadata": {},
   "outputs": [],
   "source": [
    "df[\"MyElo\"] = 0\n",
    "df[\"MyElo\"][df[\"White\"] == 'OzymandiasS'] = df[\"WhiteElo\"][df[\"White\"] == 'OzymandiasS']\n",
    "df[\"MyElo\"][df[\"Black\"] == 'OzymandiasS'] = df[\"BlackElo\"][df[\"Black\"] == 'OzymandiasS']"
   ]
  },
  {
   "cell_type": "code",
   "execution_count": 286,
   "metadata": {},
   "outputs": [],
   "source": [
    "df[\"MyOpponentsElo\"] = 0\n",
    "df[\"MyOpponentsElo\"][df[\"White\"] == 'OzymandiasS'] = df[\"BlackElo\"][df[\"White\"] == 'OzymandiasS']\n",
    "df[\"MyOpponentsElo\"][df[\"Black\"] == 'OzymandiasS'] = df[\"WhiteElo\"][df[\"Black\"] == 'OzymandiasS']"
   ]
  },
  {
   "cell_type": "code",
   "execution_count": 287,
   "metadata": {},
   "outputs": [],
   "source": [
    "df.to_csv('datasets/lichess_OzymandiasS_Games.csv',index=False)"
   ]
  }
 ]
}