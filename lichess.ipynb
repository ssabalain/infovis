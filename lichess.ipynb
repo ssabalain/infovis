{
 "metadata": {
  "language_info": {
   "codemirror_mode": {
    "name": "ipython",
    "version": 3
   },
   "file_extension": ".py",
   "mimetype": "text/x-python",
   "name": "python",
   "nbconvert_exporter": "python",
   "pygments_lexer": "ipython3",
   "version": "3.8.5"
  },
  "orig_nbformat": 4,
  "kernelspec": {
   "name": "python3",
   "display_name": "Python 3.8.5 64-bit ('base': conda)"
  },
  "interpreter": {
   "hash": "d841683dfc5fd0feb0a022474b2678e1b8e3564fd944ef79702d248c8079850b"
  }
 },
 "nbformat": 4,
 "nbformat_minor": 2,
 "cells": [
  {
   "cell_type": "code",
   "execution_count": 196,
   "metadata": {},
   "outputs": [],
   "source": [
    "import numpy as np\n",
    "import pandas as pd"
   ]
  },
  {
   "cell_type": "code",
   "execution_count": 197,
   "metadata": {},
   "outputs": [],
   "source": [
    "pd.options.mode.chained_assignment = None  # default='warn'"
   ]
  },
  {
   "cell_type": "code",
   "execution_count": 198,
   "metadata": {},
   "outputs": [],
   "source": [
    "df = pd.read_csv('datasets/lichess_OzymandiasS_2021-07-15.csv')"
   ]
  },
  {
   "cell_type": "code",
   "execution_count": 199,
   "metadata": {},
   "outputs": [],
   "source": [
    "df[\"WhiteFirstMove\"] = df[\"Moves\"].str[3:df[\"Moves\"][1].index(\" \",3)]\n",
    "df[\"BlackFirstMove\"] = df[\"Moves\"].str[df[\"Moves\"][1].index(\" \",3)+1:df[\"Moves\"][1].index(\" \",6)]\n",
    "df[\"WhiteFirstMove\"].replace({\"Nc\": \"Nc3\", \"Nf\": \"Nf3\"}, inplace=True)\n",
    "df[\"BlackFirstMove\"].replace({\"Nc\": \"Nc3\", \"Nf\": \"Nf3\"}, inplace=True)\n"
   ]
  },
  {
   "cell_type": "code",
   "execution_count": 200,
   "metadata": {},
   "outputs": [
    {
     "output_type": "execute_result",
     "data": {
      "text/plain": [
       "array(['e4', 'd4', 'e3', 'd3', 'c4', 'Nf3', 'g3', 'b3', 'c3', 'g4', 'f4',\n",
       "       'f3', 'Nc3', 'b4', 'a3', 'h3', nan, 'h4', 'a4'], dtype=object)"
      ]
     },
     "metadata": {},
     "execution_count": 200
    }
   ],
   "source": [
    "df[\"WhiteFirstMove\"].unique()"
   ]
  },
  {
   "source": [
    "df[\"UTCDate\"] = df[\"UTCDate\"].replace({'\\.':'/'}, regex=True)"
   ],
   "cell_type": "code",
   "metadata": {},
   "execution_count": 201,
   "outputs": []
  },
  {
   "cell_type": "code",
   "execution_count": 202,
   "metadata": {},
   "outputs": [],
   "source": [
    "df[\"MyResult\"] = \"Loss\""
   ]
  },
  {
   "cell_type": "code",
   "execution_count": 203,
   "metadata": {},
   "outputs": [],
   "source": [
    "df[\"MyResult\"][((df[\"White\"] == 'OzymandiasS') & (df[\"Result\"] == \"1-0\")) | ((df[\"Black\"] == 'OzymandiasS') & (df[\"Result\"] == \"0-1\"))]  = \"Win\"\n"
   ]
  },
  {
   "cell_type": "code",
   "execution_count": 204,
   "metadata": {},
   "outputs": [],
   "source": [
    "df[\"MyResult\"][df[\"Result\"] == \"1/2-1/2\"] = \"Draw\""
   ]
  },
  {
   "cell_type": "code",
   "execution_count": 205,
   "metadata": {},
   "outputs": [],
   "source": [
    "df[\"MyFirstMove\"] = \"nan\"\n",
    "df[\"MyFirstMove\"][df[\"White\"] == 'OzymandiasS'] = df[\"WhiteFirstMove\"][df[\"White\"] == 'OzymandiasS']\n",
    "df[\"MyFirstMove\"][df[\"Black\"] == 'OzymandiasS'] = df[\"BlackFirstMove\"][df[\"Black\"] == 'OzymandiasS']"
   ]
  },
  {
   "cell_type": "code",
   "execution_count": 210,
   "metadata": {},
   "outputs": [],
   "source": [
    "df.to_csv('datasets/lichess_OzymandiasS_Games.csv',index=False)"
   ]
  }
 ]
}