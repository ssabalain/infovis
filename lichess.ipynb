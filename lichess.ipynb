{
 "metadata": {
  "language_info": {
   "codemirror_mode": {
    "name": "ipython",
    "version": 3
   },
   "file_extension": ".py",
   "mimetype": "text/x-python",
   "name": "python",
   "nbconvert_exporter": "python",
   "pygments_lexer": "ipython3",
   "version": "3.8.5"
  },
  "orig_nbformat": 4,
  "kernelspec": {
   "name": "python3",
   "display_name": "Python 3.8.5 64-bit ('base': conda)"
  },
  "interpreter": {
   "hash": "d841683dfc5fd0feb0a022474b2678e1b8e3564fd944ef79702d248c8079850b"
  }
 },
 "nbformat": 4,
 "nbformat_minor": 2,
 "cells": [
  {
   "cell_type": "code",
   "execution_count": 59,
   "metadata": {},
   "outputs": [],
   "source": [
    "import numpy as np\n",
    "import pandas as pd"
   ]
  },
  {
   "cell_type": "code",
   "execution_count": 3,
   "metadata": {},
   "outputs": [
    {
     "output_type": "execute_result",
     "data": {
      "text/plain": [
       "'c:\\\\Users\\\\BairesDev\\\\Desktop\\\\Santi\\\\Personal\\\\Courses\\\\ITBA\\\\7_Visualizacion_de_la_Informacion\\\\infovis\\\\infovis'"
      ]
     },
     "metadata": {},
     "execution_count": 3
    }
   ],
   "source": [
    "pwd"
   ]
  },
  {
   "cell_type": "code",
   "execution_count": 163,
   "metadata": {},
   "outputs": [
    {
     "output_type": "execute_result",
     "data": {
      "text/plain": [
       "               Event                          Site        Date  \\\n",
       "0  Rated Bullet game  https://lichess.org/FyDMtnqO  2021.07.15   \n",
       "\n",
       "            White        Black Result     UTCDate   UTCTime  WhiteElo  \\\n",
       "0  ricardojose123  OzymandiasS    0-1  2021.07.15  00:25:01      1529   \n",
       "\n",
       "   BlackElo WhiteRatingDiff BlackRatingDiff   Variant TimeControl  ECO  \\\n",
       "0      1584              -5              +5  Standard        60+0  B00   \n",
       "\n",
       "    Termination                                              Moves  \n",
       "0  Time forfeit  1. e4 d6 2. Nf3 e6 3. d4 g6 4. Bc4 Bg7 5. O-O ...  "
      ],
      "text/html": "<div>\n<style scoped>\n    .dataframe tbody tr th:only-of-type {\n        vertical-align: middle;\n    }\n\n    .dataframe tbody tr th {\n        vertical-align: top;\n    }\n\n    .dataframe thead th {\n        text-align: right;\n    }\n</style>\n<table border=\"1\" class=\"dataframe\">\n  <thead>\n    <tr style=\"text-align: right;\">\n      <th></th>\n      <th>Event</th>\n      <th>Site</th>\n      <th>Date</th>\n      <th>White</th>\n      <th>Black</th>\n      <th>Result</th>\n      <th>UTCDate</th>\n      <th>UTCTime</th>\n      <th>WhiteElo</th>\n      <th>BlackElo</th>\n      <th>WhiteRatingDiff</th>\n      <th>BlackRatingDiff</th>\n      <th>Variant</th>\n      <th>TimeControl</th>\n      <th>ECO</th>\n      <th>Termination</th>\n      <th>Moves</th>\n    </tr>\n  </thead>\n  <tbody>\n    <tr>\n      <th>0</th>\n      <td>Rated Bullet game</td>\n      <td>https://lichess.org/FyDMtnqO</td>\n      <td>2021.07.15</td>\n      <td>ricardojose123</td>\n      <td>OzymandiasS</td>\n      <td>0-1</td>\n      <td>2021.07.15</td>\n      <td>00:25:01</td>\n      <td>1529</td>\n      <td>1584</td>\n      <td>-5</td>\n      <td>+5</td>\n      <td>Standard</td>\n      <td>60+0</td>\n      <td>B00</td>\n      <td>Time forfeit</td>\n      <td>1. e4 d6 2. Nf3 e6 3. d4 g6 4. Bc4 Bg7 5. O-O ...</td>\n    </tr>\n  </tbody>\n</table>\n</div>"
     },
     "metadata": {},
     "execution_count": 163
    }
   ],
   "source": [
    "df = pd.read_csv('lichess_OzymandiasS_2021-07-15.csv')\n",
    "df.head(1)"
   ]
  },
  {
   "cell_type": "code",
   "execution_count": 164,
   "metadata": {},
   "outputs": [],
   "source": [
    "df[\"WhiteFirstMove\"] = df[\"Moves\"].str[3:df[\"Moves\"][1].index(\" \",3)]\n",
    "df[\"BlackFirstMove\"] = df[\"Moves\"].str[df[\"Moves\"][1].index(\" \",3)+1:df[\"Moves\"][1].index(\" \",6)]\n",
    "df[\"WhiteFirstMove\"].replace({\"Nc\": \"Nc3\", \"Nf\": \"Nf3\"}, inplace=True)\n",
    "df[\"BlackFirstMove\"].replace({\"Nc\": \"Nc3\", \"Nf\": \"Nf3\"}, inplace=True)\n"
   ]
  },
  {
   "cell_type": "code",
   "execution_count": 160,
   "metadata": {},
   "outputs": [
    {
     "output_type": "execute_result",
     "data": {
      "text/plain": [
       "array(['e4', 'd4', 'e3', 'd3', 'c4', 'Nf3', 'g3', 'b3', 'c3', 'g4', 'f4',\n",
       "       'f3', 'Nc3', 'b4', 'a3', 'h3', nan, 'h4', 'a4'], dtype=object)"
      ]
     },
     "metadata": {},
     "execution_count": 160
    }
   ],
   "source": [
    "df[\"WhiteFirstMove\"].unique()"
   ]
  },
  {
   "source": [
    "df[\"UTCDate\"] = df[\"UTCDate\"].replace({'\\.':'/'}, regex=True)"
   ],
   "cell_type": "code",
   "metadata": {},
   "execution_count": 165,
   "outputs": []
  },
  {
   "cell_type": "code",
   "execution_count": 166,
   "metadata": {},
   "outputs": [
    {
     "output_type": "execute_result",
     "data": {
      "text/plain": [
       "               Event                          Site        Date  \\\n",
       "0  Rated Bullet game  https://lichess.org/FyDMtnqO  2021.07.15   \n",
       "1  Rated Bullet game  https://lichess.org/C0uzp7rV  2021.07.15   \n",
       "\n",
       "            White            Black Result     UTCDate   UTCTime  WhiteElo  \\\n",
       "0  ricardojose123      OzymandiasS    0-1  2021/07/15  00:25:01      1529   \n",
       "1     OzymandiasS  HumphreyBongani    0-1  2021/07/15  00:22:21      1588   \n",
       "\n",
       "   BlackElo WhiteRatingDiff BlackRatingDiff   Variant TimeControl  ECO  \\\n",
       "0      1584              -5              +5  Standard        60+0  B00   \n",
       "1      1648              -4              +5  Standard        60+0  B50   \n",
       "\n",
       "    Termination                                              Moves  \\\n",
       "0  Time forfeit  1. e4 d6 2. Nf3 e6 3. d4 g6 4. Bc4 Bg7 5. O-O ...   \n",
       "1  Time forfeit  1. e4 c5 2. Nf3 d6 3. d4 Nc6 4. dxc5 Qa5+ 5. N...   \n",
       "\n",
       "  WhiteFirstMove BlackFirstMove  \n",
       "0             e4             d6  \n",
       "1             e4             c5  "
      ],
      "text/html": "<div>\n<style scoped>\n    .dataframe tbody tr th:only-of-type {\n        vertical-align: middle;\n    }\n\n    .dataframe tbody tr th {\n        vertical-align: top;\n    }\n\n    .dataframe thead th {\n        text-align: right;\n    }\n</style>\n<table border=\"1\" class=\"dataframe\">\n  <thead>\n    <tr style=\"text-align: right;\">\n      <th></th>\n      <th>Event</th>\n      <th>Site</th>\n      <th>Date</th>\n      <th>White</th>\n      <th>Black</th>\n      <th>Result</th>\n      <th>UTCDate</th>\n      <th>UTCTime</th>\n      <th>WhiteElo</th>\n      <th>BlackElo</th>\n      <th>WhiteRatingDiff</th>\n      <th>BlackRatingDiff</th>\n      <th>Variant</th>\n      <th>TimeControl</th>\n      <th>ECO</th>\n      <th>Termination</th>\n      <th>Moves</th>\n      <th>WhiteFirstMove</th>\n      <th>BlackFirstMove</th>\n    </tr>\n  </thead>\n  <tbody>\n    <tr>\n      <th>0</th>\n      <td>Rated Bullet game</td>\n      <td>https://lichess.org/FyDMtnqO</td>\n      <td>2021.07.15</td>\n      <td>ricardojose123</td>\n      <td>OzymandiasS</td>\n      <td>0-1</td>\n      <td>2021/07/15</td>\n      <td>00:25:01</td>\n      <td>1529</td>\n      <td>1584</td>\n      <td>-5</td>\n      <td>+5</td>\n      <td>Standard</td>\n      <td>60+0</td>\n      <td>B00</td>\n      <td>Time forfeit</td>\n      <td>1. e4 d6 2. Nf3 e6 3. d4 g6 4. Bc4 Bg7 5. O-O ...</td>\n      <td>e4</td>\n      <td>d6</td>\n    </tr>\n    <tr>\n      <th>1</th>\n      <td>Rated Bullet game</td>\n      <td>https://lichess.org/C0uzp7rV</td>\n      <td>2021.07.15</td>\n      <td>OzymandiasS</td>\n      <td>HumphreyBongani</td>\n      <td>0-1</td>\n      <td>2021/07/15</td>\n      <td>00:22:21</td>\n      <td>1588</td>\n      <td>1648</td>\n      <td>-4</td>\n      <td>+5</td>\n      <td>Standard</td>\n      <td>60+0</td>\n      <td>B50</td>\n      <td>Time forfeit</td>\n      <td>1. e4 c5 2. Nf3 d6 3. d4 Nc6 4. dxc5 Qa5+ 5. N...</td>\n      <td>e4</td>\n      <td>c5</td>\n    </tr>\n  </tbody>\n</table>\n</div>"
     },
     "metadata": {},
     "execution_count": 166
    }
   ],
   "source": [
    "df.head(2)"
   ]
  },
  {
   "cell_type": "code",
   "execution_count": null,
   "metadata": {},
   "outputs": [],
   "source": []
  }
 ]
}